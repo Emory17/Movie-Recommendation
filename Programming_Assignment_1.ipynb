{
  "metadata": {
    "kernelspec": {
      "name": "python",
      "display_name": "Python (Pyodide)",
      "language": "python"
    },
    "language_info": {
      "codemirror_mode": {
        "name": "python",
        "version": 3
      },
      "file_extension": ".py",
      "mimetype": "text/x-python",
      "name": "python",
      "nbconvert_exporter": "python",
      "pygments_lexer": "ipython3",
      "version": "3.8"
    },
    "colab": {
      "provenance": [],
      "collapsed_sections": [
        "NjxACjUgFwsk",
        "AyeSaLpRGYuC",
        "fOXp00QSbtHk",
        "MIN3XqC0eUAu",
        "u_YceL18lWlN",
        "_ZE31gB7lImI",
        "Nuz1s-Vh_L55"
      ]
    }
  },
  "nbformat_minor": 4,
  "nbformat": 4,
  "cells": [
    {
      "cell_type": "markdown",
      "source": "# ITCS 6162: Data Mining - Programming Assignment",
      "metadata": {
        "id": "Hr7SGYEq69wv"
      }
    },
    {
      "cell_type": "markdown",
      "source": "**In this assignment, you will explore data analysis, recommendation algorithms, and graph-based techniques using the MovieLens dataset. Your tasks will range from basic data exploration to advanced recommendation models, including:**\n- Data manipulation with pandas\n- User-item collaborative filtering\n- Similarity-based recommendation models\n- A Pixie-inspired Graph-based recommendation using adjacency lists with weighted random walks (without using NetworkX)\n",
      "metadata": {
        "id": "L_idzFtE7M_9"
      }
    },
    {
      "cell_type": "markdown",
      "source": "#### **Dataset Files:**\n- **`u.data`**: User-movie ratings (`user_id  movie_id  rating  timestamp`)\n- **`u.item`**: Movie metadata (`movie_id | title | release date | IMDB_website`)\n- **`u.user`**: User demographics (`user_id | age | gender | occupation | zip_code`)",
      "metadata": {
        "id": "EZxjOF_l79zc"
      }
    },
    {
      "cell_type": "markdown",
      "source": "## **Part 1: Exploring and Cleaning Data**",
      "metadata": {
        "id": "ytr6isc2F9g6"
      }
    },
    {
      "cell_type": "markdown",
      "source": "### Inspecting the Dataset Format\n\nThe dataset is not in a traditional CSV format. To examine its structure, use the following shell command to display the first 10 lines of the file:\n\n```sh\n!head <file_name>\n",
      "metadata": {
        "id": "87kIrhTC9Ba1"
      }
    },
    {
      "cell_type": "markdown",
      "source": "**In the cells given below. Write the code to read the files.**",
      "metadata": {
        "id": "PjOtbBWM9xWv"
      }
    },
    {
      "cell_type": "code",
      "source": "# u.data\n!head u.data\n",
      "metadata": {
        "id": "XOoSaKsq68nD",
        "trusted": true
      },
      "outputs": [],
      "execution_count": null
    },
    {
      "cell_type": "code",
      "source": "# u.item\n!head u.item\n",
      "metadata": {
        "id": "dckMko0o9t-D",
        "trusted": true
      },
      "outputs": [],
      "execution_count": null
    },
    {
      "cell_type": "code",
      "source": "# u.user\n!head u.user\n",
      "metadata": {
        "id": "R7kBwpsi-WKB",
        "trusted": true
      },
      "outputs": [],
      "execution_count": null
    },
    {
      "cell_type": "markdown",
      "source": "#### Loading the Dataset with Pandas",
      "metadata": {
        "id": "YnryIHO7-db3"
      }
    },
    {
      "cell_type": "markdown",
      "source": "Use **pandas** to load the dataset into a DataFrame for analysis. Follow these steps:  \n\n1. Import the necessary library: `pandas`.  \n2. Use `pd.read_csv()` (or an appropriate function) to read the dataset file.  \n3. Ensure the dataset is loaded with the correct delimiter (e.g., `','`, `'\\t'`,`'|'` , or another separator if needed).  \n4. Select and display the first few rows using `.head()`.",
      "metadata": {
        "id": "Jwmza7riBj30"
      }
    },
    {
      "cell_type": "markdown",
      "source": "Ensure that:  \n\n- The `ratings` dataset is read from `\"u.data\"` using tab (`'\\t'`) as a separator and column names (`\"user_id\"`, `\"movie_id\"`, `\"rating\"` and `\"timestamp\"`).  \n- The `movies` dataset is read from `\"u.item\"` using `'|'` as a separator, use columns (`0`, `1`, `2`), encoding (`\"latin-1\"`) and name the columns (`movie_id`, `title`, and `release_date`).  \n- The `users` dataset is read from `\"u.user\"` using `'|'` as a separator, use columns (`0`, `1`, `2`, `3`) and name the columns (`user_id`, `age`, `gender`, and `occupation`).",
      "metadata": {
        "id": "KPEDYYGOBOSD"
      }
    },
    {
      "cell_type": "code",
      "source": "import pandas as pd",
      "metadata": {
        "trusted": true
      },
      "outputs": [],
      "execution_count": 1
    },
    {
      "cell_type": "code",
      "source": "# ratings\nratings_df = pd.read_csv(\"u.data\",sep='\\t',names=[\"user_id\",\"movie_id\",\"rating\",\"timestamp\"])\nratings_df.head()",
      "metadata": {
        "id": "Go-Y-Ofy-ZTk",
        "trusted": true
      },
      "outputs": [
        {
          "execution_count": 2,
          "output_type": "execute_result",
          "data": {
            "text/plain": "   user_id  movie_id  rating  timestamp\n0      196       242       3  881250949\n1      186       302       3  891717742\n2       22       377       1  878887116\n3      244        51       2  880606923\n4      166       346       1  886397596",
            "text/html": "<div>\n<style scoped>\n    .dataframe tbody tr th:only-of-type {\n        vertical-align: middle;\n    }\n\n    .dataframe tbody tr th {\n        vertical-align: top;\n    }\n\n    .dataframe thead th {\n        text-align: right;\n    }\n</style>\n<table border=\"1\" class=\"dataframe\">\n  <thead>\n    <tr style=\"text-align: right;\">\n      <th></th>\n      <th>user_id</th>\n      <th>movie_id</th>\n      <th>rating</th>\n      <th>timestamp</th>\n    </tr>\n  </thead>\n  <tbody>\n    <tr>\n      <th>0</th>\n      <td>196</td>\n      <td>242</td>\n      <td>3</td>\n      <td>881250949</td>\n    </tr>\n    <tr>\n      <th>1</th>\n      <td>186</td>\n      <td>302</td>\n      <td>3</td>\n      <td>891717742</td>\n    </tr>\n    <tr>\n      <th>2</th>\n      <td>22</td>\n      <td>377</td>\n      <td>1</td>\n      <td>878887116</td>\n    </tr>\n    <tr>\n      <th>3</th>\n      <td>244</td>\n      <td>51</td>\n      <td>2</td>\n      <td>880606923</td>\n    </tr>\n    <tr>\n      <th>4</th>\n      <td>166</td>\n      <td>346</td>\n      <td>1</td>\n      <td>886397596</td>\n    </tr>\n  </tbody>\n</table>\n</div>"
          },
          "metadata": {}
        }
      ],
      "execution_count": 2
    },
    {
      "cell_type": "code",
      "source": "# movies\nmovies_df = pd.read_csv(\"u.item\",sep='|',usecols=[0,1,2],names=[\"movie_id\",\"title\",\"release_date\"],encoding=\"latin-1\")\nmovies_df.head()",
      "metadata": {
        "id": "zM8IJGh-CLN5",
        "trusted": true
      },
      "outputs": [
        {
          "execution_count": 3,
          "output_type": "execute_result",
          "data": {
            "text/plain": "   movie_id              title release_date\n0         1   Toy Story (1995)  01-Jan-1995\n1         2   GoldenEye (1995)  01-Jan-1995\n2         3  Four Rooms (1995)  01-Jan-1995\n3         4  Get Shorty (1995)  01-Jan-1995\n4         5     Copycat (1995)  01-Jan-1995",
            "text/html": "<div>\n<style scoped>\n    .dataframe tbody tr th:only-of-type {\n        vertical-align: middle;\n    }\n\n    .dataframe tbody tr th {\n        vertical-align: top;\n    }\n\n    .dataframe thead th {\n        text-align: right;\n    }\n</style>\n<table border=\"1\" class=\"dataframe\">\n  <thead>\n    <tr style=\"text-align: right;\">\n      <th></th>\n      <th>movie_id</th>\n      <th>title</th>\n      <th>release_date</th>\n    </tr>\n  </thead>\n  <tbody>\n    <tr>\n      <th>0</th>\n      <td>1</td>\n      <td>Toy Story (1995)</td>\n      <td>01-Jan-1995</td>\n    </tr>\n    <tr>\n      <th>1</th>\n      <td>2</td>\n      <td>GoldenEye (1995)</td>\n      <td>01-Jan-1995</td>\n    </tr>\n    <tr>\n      <th>2</th>\n      <td>3</td>\n      <td>Four Rooms (1995)</td>\n      <td>01-Jan-1995</td>\n    </tr>\n    <tr>\n      <th>3</th>\n      <td>4</td>\n      <td>Get Shorty (1995)</td>\n      <td>01-Jan-1995</td>\n    </tr>\n    <tr>\n      <th>4</th>\n      <td>5</td>\n      <td>Copycat (1995)</td>\n      <td>01-Jan-1995</td>\n    </tr>\n  </tbody>\n</table>\n</div>"
          },
          "metadata": {}
        }
      ],
      "execution_count": 3
    },
    {
      "cell_type": "code",
      "source": "# users\nusers_df = pd.read_csv(\"u.user\",sep='|',usecols=[0,1,2,3],names=[\"user_id\",\"age\",\"gender\",\"occupation\"])\nusers_df.head()",
      "metadata": {
        "id": "hsekVjevCNKj",
        "trusted": true
      },
      "outputs": [
        {
          "execution_count": 4,
          "output_type": "execute_result",
          "data": {
            "text/plain": "   user_id  age gender  occupation\n0        1   24      M  technician\n1        2   53      F       other\n2        3   23      M      writer\n3        4   24      M  technician\n4        5   33      F       other",
            "text/html": "<div>\n<style scoped>\n    .dataframe tbody tr th:only-of-type {\n        vertical-align: middle;\n    }\n\n    .dataframe tbody tr th {\n        vertical-align: top;\n    }\n\n    .dataframe thead th {\n        text-align: right;\n    }\n</style>\n<table border=\"1\" class=\"dataframe\">\n  <thead>\n    <tr style=\"text-align: right;\">\n      <th></th>\n      <th>user_id</th>\n      <th>age</th>\n      <th>gender</th>\n      <th>occupation</th>\n    </tr>\n  </thead>\n  <tbody>\n    <tr>\n      <th>0</th>\n      <td>1</td>\n      <td>24</td>\n      <td>M</td>\n      <td>technician</td>\n    </tr>\n    <tr>\n      <th>1</th>\n      <td>2</td>\n      <td>53</td>\n      <td>F</td>\n      <td>other</td>\n    </tr>\n    <tr>\n      <th>2</th>\n      <td>3</td>\n      <td>23</td>\n      <td>M</td>\n      <td>writer</td>\n    </tr>\n    <tr>\n      <th>3</th>\n      <td>4</td>\n      <td>24</td>\n      <td>M</td>\n      <td>technician</td>\n    </tr>\n    <tr>\n      <th>4</th>\n      <td>5</td>\n      <td>33</td>\n      <td>F</td>\n      <td>other</td>\n    </tr>\n  </tbody>\n</table>\n</div>"
          },
          "metadata": {}
        }
      ],
      "execution_count": 4
    },
    {
      "cell_type": "markdown",
      "source": "**Note:** As a **Bonus** task save the `ratings`, `movies` and `users` dataframe created into a `.csv` file format. <br>\n**Hint:** Use the `to_csv()` function in pandas to save these DataFrames as CSV files.",
      "metadata": {
        "id": "jE5OHLqt7xeq"
      }
    },
    {
      "cell_type": "code",
      "source": "# ratings\nratings_df.to_csv(\"ratings.csv\")",
      "metadata": {
        "id": "Chyv3c4n8wVC",
        "trusted": true
      },
      "outputs": [],
      "execution_count": null
    },
    {
      "cell_type": "code",
      "source": "# movies\nmovies_df.to_csv(\"movies.csv\")",
      "metadata": {
        "id": "Gl7zVV3y8wKU",
        "trusted": true
      },
      "outputs": [],
      "execution_count": null
    },
    {
      "cell_type": "code",
      "source": "# users\nusers_df.to_csv(\"users.csv\")",
      "metadata": {
        "id": "0YwVuebp8u46",
        "trusted": true
      },
      "outputs": [],
      "execution_count": null
    },
    {
      "cell_type": "markdown",
      "source": "**Display the first 10 rows of each file.**",
      "metadata": {
        "id": "s3S1y82cCYxx"
      }
    },
    {
      "cell_type": "code",
      "source": "# ratings\ncdata = pd.read_csv(\"ratings.csv\")\ncdata.head(10)",
      "metadata": {
        "id": "x5ZOXTqnCPgw",
        "trusted": true
      },
      "outputs": [
        {
          "execution_count": 5,
          "output_type": "execute_result",
          "data": {
            "text/plain": "   Unnamed: 0  user_id  movie_id  rating  timestamp\n0           0      196       242       3  881250949\n1           1      186       302       3  891717742\n2           2       22       377       1  878887116\n3           3      244        51       2  880606923\n4           4      166       346       1  886397596\n5           5      298       474       4  884182806\n6           6      115       265       2  881171488\n7           7      253       465       5  891628467\n8           8      305       451       3  886324817\n9           9        6        86       3  883603013",
            "text/html": "<div>\n<style scoped>\n    .dataframe tbody tr th:only-of-type {\n        vertical-align: middle;\n    }\n\n    .dataframe tbody tr th {\n        vertical-align: top;\n    }\n\n    .dataframe thead th {\n        text-align: right;\n    }\n</style>\n<table border=\"1\" class=\"dataframe\">\n  <thead>\n    <tr style=\"text-align: right;\">\n      <th></th>\n      <th>Unnamed: 0</th>\n      <th>user_id</th>\n      <th>movie_id</th>\n      <th>rating</th>\n      <th>timestamp</th>\n    </tr>\n  </thead>\n  <tbody>\n    <tr>\n      <th>0</th>\n      <td>0</td>\n      <td>196</td>\n      <td>242</td>\n      <td>3</td>\n      <td>881250949</td>\n    </tr>\n    <tr>\n      <th>1</th>\n      <td>1</td>\n      <td>186</td>\n      <td>302</td>\n      <td>3</td>\n      <td>891717742</td>\n    </tr>\n    <tr>\n      <th>2</th>\n      <td>2</td>\n      <td>22</td>\n      <td>377</td>\n      <td>1</td>\n      <td>878887116</td>\n    </tr>\n    <tr>\n      <th>3</th>\n      <td>3</td>\n      <td>244</td>\n      <td>51</td>\n      <td>2</td>\n      <td>880606923</td>\n    </tr>\n    <tr>\n      <th>4</th>\n      <td>4</td>\n      <td>166</td>\n      <td>346</td>\n      <td>1</td>\n      <td>886397596</td>\n    </tr>\n    <tr>\n      <th>5</th>\n      <td>5</td>\n      <td>298</td>\n      <td>474</td>\n      <td>4</td>\n      <td>884182806</td>\n    </tr>\n    <tr>\n      <th>6</th>\n      <td>6</td>\n      <td>115</td>\n      <td>265</td>\n      <td>2</td>\n      <td>881171488</td>\n    </tr>\n    <tr>\n      <th>7</th>\n      <td>7</td>\n      <td>253</td>\n      <td>465</td>\n      <td>5</td>\n      <td>891628467</td>\n    </tr>\n    <tr>\n      <th>8</th>\n      <td>8</td>\n      <td>305</td>\n      <td>451</td>\n      <td>3</td>\n      <td>886324817</td>\n    </tr>\n    <tr>\n      <th>9</th>\n      <td>9</td>\n      <td>6</td>\n      <td>86</td>\n      <td>3</td>\n      <td>883603013</td>\n    </tr>\n  </tbody>\n</table>\n</div>"
          },
          "metadata": {}
        }
      ],
      "execution_count": 5
    },
    {
      "cell_type": "code",
      "source": "# movies\ncdata = pd.read_csv(\"movies.csv\")\ncdata.head(10)",
      "metadata": {
        "id": "AzuqiRkrCdfZ",
        "trusted": true
      },
      "outputs": [
        {
          "execution_count": 6,
          "output_type": "execute_result",
          "data": {
            "text/plain": "   Unnamed: 0  movie_id                                              title  \\\n0           0         1                                   Toy Story (1995)   \n1           1         2                                   GoldenEye (1995)   \n2           2         3                                  Four Rooms (1995)   \n3           3         4                                  Get Shorty (1995)   \n4           4         5                                     Copycat (1995)   \n5           5         6  Shanghai Triad (Yao a yao yao dao waipo qiao) ...   \n6           6         7                              Twelve Monkeys (1995)   \n7           7         8                                        Babe (1995)   \n8           8         9                            Dead Man Walking (1995)   \n9           9        10                                 Richard III (1995)   \n\n  release_date  \n0  01-Jan-1995  \n1  01-Jan-1995  \n2  01-Jan-1995  \n3  01-Jan-1995  \n4  01-Jan-1995  \n5  01-Jan-1995  \n6  01-Jan-1995  \n7  01-Jan-1995  \n8  01-Jan-1995  \n9  22-Jan-1996  ",
            "text/html": "<div>\n<style scoped>\n    .dataframe tbody tr th:only-of-type {\n        vertical-align: middle;\n    }\n\n    .dataframe tbody tr th {\n        vertical-align: top;\n    }\n\n    .dataframe thead th {\n        text-align: right;\n    }\n</style>\n<table border=\"1\" class=\"dataframe\">\n  <thead>\n    <tr style=\"text-align: right;\">\n      <th></th>\n      <th>Unnamed: 0</th>\n      <th>movie_id</th>\n      <th>title</th>\n      <th>release_date</th>\n    </tr>\n  </thead>\n  <tbody>\n    <tr>\n      <th>0</th>\n      <td>0</td>\n      <td>1</td>\n      <td>Toy Story (1995)</td>\n      <td>01-Jan-1995</td>\n    </tr>\n    <tr>\n      <th>1</th>\n      <td>1</td>\n      <td>2</td>\n      <td>GoldenEye (1995)</td>\n      <td>01-Jan-1995</td>\n    </tr>\n    <tr>\n      <th>2</th>\n      <td>2</td>\n      <td>3</td>\n      <td>Four Rooms (1995)</td>\n      <td>01-Jan-1995</td>\n    </tr>\n    <tr>\n      <th>3</th>\n      <td>3</td>\n      <td>4</td>\n      <td>Get Shorty (1995)</td>\n      <td>01-Jan-1995</td>\n    </tr>\n    <tr>\n      <th>4</th>\n      <td>4</td>\n      <td>5</td>\n      <td>Copycat (1995)</td>\n      <td>01-Jan-1995</td>\n    </tr>\n    <tr>\n      <th>5</th>\n      <td>5</td>\n      <td>6</td>\n      <td>Shanghai Triad (Yao a yao yao dao waipo qiao) ...</td>\n      <td>01-Jan-1995</td>\n    </tr>\n    <tr>\n      <th>6</th>\n      <td>6</td>\n      <td>7</td>\n      <td>Twelve Monkeys (1995)</td>\n      <td>01-Jan-1995</td>\n    </tr>\n    <tr>\n      <th>7</th>\n      <td>7</td>\n      <td>8</td>\n      <td>Babe (1995)</td>\n      <td>01-Jan-1995</td>\n    </tr>\n    <tr>\n      <th>8</th>\n      <td>8</td>\n      <td>9</td>\n      <td>Dead Man Walking (1995)</td>\n      <td>01-Jan-1995</td>\n    </tr>\n    <tr>\n      <th>9</th>\n      <td>9</td>\n      <td>10</td>\n      <td>Richard III (1995)</td>\n      <td>22-Jan-1996</td>\n    </tr>\n  </tbody>\n</table>\n</div>"
          },
          "metadata": {}
        }
      ],
      "execution_count": 6
    },
    {
      "cell_type": "code",
      "source": "# users\ncdata = pd.read_csv(\"users.csv\")\ncdata.head(10)",
      "metadata": {
        "id": "FE9hcM9mCewe",
        "trusted": true
      },
      "outputs": [
        {
          "execution_count": 7,
          "output_type": "execute_result",
          "data": {
            "text/plain": "   Unnamed: 0  user_id  age gender     occupation\n0           0        1   24      M     technician\n1           1        2   53      F          other\n2           2        3   23      M         writer\n3           3        4   24      M     technician\n4           4        5   33      F          other\n5           5        6   42      M      executive\n6           6        7   57      M  administrator\n7           7        8   36      M  administrator\n8           8        9   29      M        student\n9           9       10   53      M         lawyer",
            "text/html": "<div>\n<style scoped>\n    .dataframe tbody tr th:only-of-type {\n        vertical-align: middle;\n    }\n\n    .dataframe tbody tr th {\n        vertical-align: top;\n    }\n\n    .dataframe thead th {\n        text-align: right;\n    }\n</style>\n<table border=\"1\" class=\"dataframe\">\n  <thead>\n    <tr style=\"text-align: right;\">\n      <th></th>\n      <th>Unnamed: 0</th>\n      <th>user_id</th>\n      <th>age</th>\n      <th>gender</th>\n      <th>occupation</th>\n    </tr>\n  </thead>\n  <tbody>\n    <tr>\n      <th>0</th>\n      <td>0</td>\n      <td>1</td>\n      <td>24</td>\n      <td>M</td>\n      <td>technician</td>\n    </tr>\n    <tr>\n      <th>1</th>\n      <td>1</td>\n      <td>2</td>\n      <td>53</td>\n      <td>F</td>\n      <td>other</td>\n    </tr>\n    <tr>\n      <th>2</th>\n      <td>2</td>\n      <td>3</td>\n      <td>23</td>\n      <td>M</td>\n      <td>writer</td>\n    </tr>\n    <tr>\n      <th>3</th>\n      <td>3</td>\n      <td>4</td>\n      <td>24</td>\n      <td>M</td>\n      <td>technician</td>\n    </tr>\n    <tr>\n      <th>4</th>\n      <td>4</td>\n      <td>5</td>\n      <td>33</td>\n      <td>F</td>\n      <td>other</td>\n    </tr>\n    <tr>\n      <th>5</th>\n      <td>5</td>\n      <td>6</td>\n      <td>42</td>\n      <td>M</td>\n      <td>executive</td>\n    </tr>\n    <tr>\n      <th>6</th>\n      <td>6</td>\n      <td>7</td>\n      <td>57</td>\n      <td>M</td>\n      <td>administrator</td>\n    </tr>\n    <tr>\n      <th>7</th>\n      <td>7</td>\n      <td>8</td>\n      <td>36</td>\n      <td>M</td>\n      <td>administrator</td>\n    </tr>\n    <tr>\n      <th>8</th>\n      <td>8</td>\n      <td>9</td>\n      <td>29</td>\n      <td>M</td>\n      <td>student</td>\n    </tr>\n    <tr>\n      <th>9</th>\n      <td>9</td>\n      <td>10</td>\n      <td>53</td>\n      <td>M</td>\n      <td>lawyer</td>\n    </tr>\n  </tbody>\n</table>\n</div>"
          },
          "metadata": {}
        }
      ],
      "execution_count": 7
    },
    {
      "cell_type": "markdown",
      "source": "### Data Cleaning and Exploration with Pandas  \n\nAfter loading the dataset, it’s important to clean and explore the data to ensure consistency and accuracy. Below are key **pandas** functions for cleaning and understanding the dataset.\n\n#### 1. Handle Missing Values  \n- `df.dropna()` – Removes rows with missing values.  \n- `df.fillna(value)` – Fills missing values with a specified value.  \n\n#### 2. Remove Duplicates  \n- `df.drop_duplicates()` – Drops duplicate rows from the dataset.  \n\n#### 3. Handle Incorrect Data Types  \n- `df.astype(dtype)` – Converts columns to the appropriate data type.  \n\n#### 4. Filter Outliers (if applicable)  \n- `df[df['column_name'] > threshold]` – Filters rows based on a condition.  \n\n#### 5. Rename Columns (if needed)  \n- `df.rename(columns={'old_name': 'new_name'})` – Renames columns for clarity.  \n\n#### 6. Reset Index  \n- `df.reset_index(drop=True, inplace=True)` – Resets the index after cleaning.  \n\n### Data Exploration Functions  \n\nTo better understand the dataset, use these **pandas** functions:  \n\n- `df.shape` – Returns the number of rows and columns in the dataset.  \n- `df.nunique()` – Displays the number of unique values in each column.  \n- `df['column_name'].unique()` – Returns unique values in a specific column.  \n\n**Example Usage in Pandas:**  \n```python\nimport pandas as pd\n\n# Load dataset\ndf = pd.read_csv(\"your_file.csv\")\n\n# Drop missing values\ndf_cleaned = df.dropna()\n\n# Remove duplicate rows\ndf_cleaned = df_cleaned.drop_duplicates()\n\n# Convert 'timestamp' column to datetime format\ndf_cleaned['timestamp'] = pd.to_datetime(df_cleaned['timestamp'])\n\n# Display dataset shape\nprint(\"Dataset shape:\", df_cleaned.shape)\n\n# Display number of unique values in each column\nprint(\"Unique values per column:\\n\", df_cleaned.nunique())\n\n# Display unique movie IDs\nprint(\"Unique movie IDs:\", df_cleaned['movie_id'].unique()[:10])  # Show first 10 unique movie IDs\n",
      "metadata": {
        "id": "i38iDIz-DiVj"
      }
    },
    {
      "cell_type": "markdown",
      "source": "**Note:** The functions mentioned above are some of the widely used **pandas** functions for data cleaning and exploration. However, it is not necessary that all of these functions will be required in the exercises below. Use them as needed based on the dataset and the specific tasks.",
      "metadata": {
        "id": "4cwmLON4EItA"
      }
    },
    {
      "cell_type": "markdown",
      "source": "**Convert Timestamps into Readable dates.**",
      "metadata": {
        "id": "Tn0bLOSACxMP"
      }
    },
    {
      "cell_type": "code",
      "source": "# ratings\nratings_df[\"timestamp\"] = pd.to_datetime(ratings_df[\"timestamp\"])",
      "metadata": {
        "id": "9MwnDxeeCf8b",
        "trusted": true
      },
      "outputs": [],
      "execution_count": 8
    },
    {
      "cell_type": "markdown",
      "source": "**Check for Missing Values**",
      "metadata": {
        "id": "oKJB0a9CE0Z4"
      }
    },
    {
      "cell_type": "code",
      "source": "# ratings\nratings_df = ratings_df.dropna()",
      "metadata": {
        "id": "iYf4NM47DL7q",
        "trusted": true
      },
      "outputs": [],
      "execution_count": 9
    },
    {
      "cell_type": "code",
      "source": "# movies\nmovies_df = movies_df.dropna()",
      "metadata": {
        "id": "hgM78fNaFH2q",
        "trusted": true
      },
      "outputs": [],
      "execution_count": 10
    },
    {
      "cell_type": "code",
      "source": "# users\nusers_df = users_df.dropna()",
      "metadata": {
        "id": "jE8J_cajFA5n",
        "trusted": true
      },
      "outputs": [],
      "execution_count": 11
    },
    {
      "cell_type": "markdown",
      "source": "**Print the total number of users, movies, and ratings.**",
      "metadata": {
        "id": "1WviFe7iFRoQ"
      }
    },
    {
      "cell_type": "code",
      "source": "print(f\"Total Users: { len(users_df['user_id'].unique()) }\")\nprint(f\"Total Movies: { len(movies_df['movie_id'].unique()) }\")\nprint(f\"Total Ratings: { len(ratings_df) }\")",
      "metadata": {
        "id": "eR_QgS9aFTPb",
        "trusted": true
      },
      "outputs": [
        {
          "name": "stdout",
          "output_type": "stream",
          "text": "Total Users: 943\nTotal Movies: 1681\nTotal Ratings: 100000\n"
        }
      ],
      "execution_count": 12
    },
    {
      "cell_type": "markdown",
      "source": "## **Part 2: Collaborative Filtering-Based Recommendation**",
      "metadata": {
        "id": "NjxACjUgFwsk"
      }
    },
    {
      "cell_type": "markdown",
      "source": "### **Create a User-Item Matrix**",
      "metadata": {
        "id": "AyeSaLpRGYuC"
      }
    },
    {
      "cell_type": "markdown",
      "source": "#### Instructions for Creating a User-Movie Rating Matrix",
      "metadata": {
        "id": "3tKsv-7XHRq2"
      }
    },
    {
      "cell_type": "markdown",
      "source": "In this exercise, you will create a user-movie rating matrix using **pandas**. This matrix will represent the ratings that users have given to different movies.\n\n1. **Dataset Overview**:  \n   The dataset has already been loaded. It includes the following key columns:\n   - `user_id`: The ID of the user.\n   - `movie_id`: The ID of the movie.\n   - `ratings`: The rating the user gave to the movie.\n\n2. **Create the User-Movie Rating Matrix**:  \n   Use the **`pivot()`** function in **pandas** to reshape the data. Your goal is to create a matrix where:\n   - Each **row** represents a **user**.\n   - Each **column** represents a **movie**.\n   - Each **cell** contains the **rating** that the user has given to the movie.\n\n   Specify the following parameters for the `pivot()` function:\n   - **`index`**: The `user_id` column (this will define the rows).\n   - **`columns`**: The `movie_id` column (this will define the columns).\n   - **`values`**: The `rating` column (this will fill the matrix with ratings).\n\n3. **Inspect the Matrix**:  \n   After creating the matrix, examine the first few rows of the resulting matrix to ensure it has been constructed correctly.\n\n4. **Handle Missing Values**:  \n   It's likely that some users have not rated every movie, resulting in `NaN` values in the matrix. You will need to handle these missing values. Consider the following options:\n   - **Fill with 0**: If you wish to represent missing ratings as zeros (indicating no rating).\n   - **Fill with the average rating**: Alternatively, replace missing values with the average rating for each movie.",
      "metadata": {
        "id": "lLayr0YbH4tB"
      }
    },
    {
      "cell_type": "markdown",
      "source": "**Create the user-movie rating matrix using the `pivot()` function.**",
      "metadata": {
        "id": "E_cdPXYeaD-l"
      }
    },
    {
      "cell_type": "code",
      "source": "user_movie_matrix = ratings_df.pivot(index=\"user_id\",columns=\"movie_id\",values=\"rating\")",
      "metadata": {
        "id": "Ie858yKEUSfc",
        "trusted": true
      },
      "outputs": [],
      "execution_count": 13
    },
    {
      "cell_type": "markdown",
      "source": "**Display the matrix to verify the transformation.**",
      "metadata": {
        "id": "tyb3h9FmaVGH"
      }
    },
    {
      "cell_type": "code",
      "source": "user_movie_matrix",
      "metadata": {
        "id": "16abaOrXabN_",
        "trusted": true
      },
      "outputs": [
        {
          "execution_count": 14,
          "output_type": "execute_result",
          "data": {
            "text/plain": "movie_id  1     2     3     4     5     6     7     8     9     10    ...  \\\nuser_id                                                               ...   \n1          5.0   3.0   4.0   3.0   3.0   5.0   4.0   1.0   5.0   3.0  ...   \n2          4.0   NaN   NaN   NaN   NaN   NaN   NaN   NaN   NaN   2.0  ...   \n3          NaN   NaN   NaN   NaN   NaN   NaN   NaN   NaN   NaN   NaN  ...   \n4          NaN   NaN   NaN   NaN   NaN   NaN   NaN   NaN   NaN   NaN  ...   \n5          4.0   3.0   NaN   NaN   NaN   NaN   NaN   NaN   NaN   NaN  ...   \n...        ...   ...   ...   ...   ...   ...   ...   ...   ...   ...  ...   \n939        NaN   NaN   NaN   NaN   NaN   NaN   NaN   NaN   5.0   NaN  ...   \n940        NaN   NaN   NaN   2.0   NaN   NaN   4.0   5.0   3.0   NaN  ...   \n941        5.0   NaN   NaN   NaN   NaN   NaN   4.0   NaN   NaN   NaN  ...   \n942        NaN   NaN   NaN   NaN   NaN   NaN   NaN   NaN   NaN   NaN  ...   \n943        NaN   5.0   NaN   NaN   NaN   NaN   NaN   NaN   3.0   NaN  ...   \n\nmovie_id  1673  1674  1675  1676  1677  1678  1679  1680  1681  1682  \nuser_id                                                               \n1          NaN   NaN   NaN   NaN   NaN   NaN   NaN   NaN   NaN   NaN  \n2          NaN   NaN   NaN   NaN   NaN   NaN   NaN   NaN   NaN   NaN  \n3          NaN   NaN   NaN   NaN   NaN   NaN   NaN   NaN   NaN   NaN  \n4          NaN   NaN   NaN   NaN   NaN   NaN   NaN   NaN   NaN   NaN  \n5          NaN   NaN   NaN   NaN   NaN   NaN   NaN   NaN   NaN   NaN  \n...        ...   ...   ...   ...   ...   ...   ...   ...   ...   ...  \n939        NaN   NaN   NaN   NaN   NaN   NaN   NaN   NaN   NaN   NaN  \n940        NaN   NaN   NaN   NaN   NaN   NaN   NaN   NaN   NaN   NaN  \n941        NaN   NaN   NaN   NaN   NaN   NaN   NaN   NaN   NaN   NaN  \n942        NaN   NaN   NaN   NaN   NaN   NaN   NaN   NaN   NaN   NaN  \n943        NaN   NaN   NaN   NaN   NaN   NaN   NaN   NaN   NaN   NaN  \n\n[943 rows x 1682 columns]",
            "text/html": "<div>\n<style scoped>\n    .dataframe tbody tr th:only-of-type {\n        vertical-align: middle;\n    }\n\n    .dataframe tbody tr th {\n        vertical-align: top;\n    }\n\n    .dataframe thead th {\n        text-align: right;\n    }\n</style>\n<table border=\"1\" class=\"dataframe\">\n  <thead>\n    <tr style=\"text-align: right;\">\n      <th>movie_id</th>\n      <th>1</th>\n      <th>2</th>\n      <th>3</th>\n      <th>4</th>\n      <th>5</th>\n      <th>6</th>\n      <th>7</th>\n      <th>8</th>\n      <th>9</th>\n      <th>10</th>\n      <th>...</th>\n      <th>1673</th>\n      <th>1674</th>\n      <th>1675</th>\n      <th>1676</th>\n      <th>1677</th>\n      <th>1678</th>\n      <th>1679</th>\n      <th>1680</th>\n      <th>1681</th>\n      <th>1682</th>\n    </tr>\n    <tr>\n      <th>user_id</th>\n      <th></th>\n      <th></th>\n      <th></th>\n      <th></th>\n      <th></th>\n      <th></th>\n      <th></th>\n      <th></th>\n      <th></th>\n      <th></th>\n      <th></th>\n      <th></th>\n      <th></th>\n      <th></th>\n      <th></th>\n      <th></th>\n      <th></th>\n      <th></th>\n      <th></th>\n      <th></th>\n      <th></th>\n    </tr>\n  </thead>\n  <tbody>\n    <tr>\n      <th>1</th>\n      <td>5.0</td>\n      <td>3.0</td>\n      <td>4.0</td>\n      <td>3.0</td>\n      <td>3.0</td>\n      <td>5.0</td>\n      <td>4.0</td>\n      <td>1.0</td>\n      <td>5.0</td>\n      <td>3.0</td>\n      <td>...</td>\n      <td>NaN</td>\n      <td>NaN</td>\n      <td>NaN</td>\n      <td>NaN</td>\n      <td>NaN</td>\n      <td>NaN</td>\n      <td>NaN</td>\n      <td>NaN</td>\n      <td>NaN</td>\n      <td>NaN</td>\n    </tr>\n    <tr>\n      <th>2</th>\n      <td>4.0</td>\n      <td>NaN</td>\n      <td>NaN</td>\n      <td>NaN</td>\n      <td>NaN</td>\n      <td>NaN</td>\n      <td>NaN</td>\n      <td>NaN</td>\n      <td>NaN</td>\n      <td>2.0</td>\n      <td>...</td>\n      <td>NaN</td>\n      <td>NaN</td>\n      <td>NaN</td>\n      <td>NaN</td>\n      <td>NaN</td>\n      <td>NaN</td>\n      <td>NaN</td>\n      <td>NaN</td>\n      <td>NaN</td>\n      <td>NaN</td>\n    </tr>\n    <tr>\n      <th>3</th>\n      <td>NaN</td>\n      <td>NaN</td>\n      <td>NaN</td>\n      <td>NaN</td>\n      <td>NaN</td>\n      <td>NaN</td>\n      <td>NaN</td>\n      <td>NaN</td>\n      <td>NaN</td>\n      <td>NaN</td>\n      <td>...</td>\n      <td>NaN</td>\n      <td>NaN</td>\n      <td>NaN</td>\n      <td>NaN</td>\n      <td>NaN</td>\n      <td>NaN</td>\n      <td>NaN</td>\n      <td>NaN</td>\n      <td>NaN</td>\n      <td>NaN</td>\n    </tr>\n    <tr>\n      <th>4</th>\n      <td>NaN</td>\n      <td>NaN</td>\n      <td>NaN</td>\n      <td>NaN</td>\n      <td>NaN</td>\n      <td>NaN</td>\n      <td>NaN</td>\n      <td>NaN</td>\n      <td>NaN</td>\n      <td>NaN</td>\n      <td>...</td>\n      <td>NaN</td>\n      <td>NaN</td>\n      <td>NaN</td>\n      <td>NaN</td>\n      <td>NaN</td>\n      <td>NaN</td>\n      <td>NaN</td>\n      <td>NaN</td>\n      <td>NaN</td>\n      <td>NaN</td>\n    </tr>\n    <tr>\n      <th>5</th>\n      <td>4.0</td>\n      <td>3.0</td>\n      <td>NaN</td>\n      <td>NaN</td>\n      <td>NaN</td>\n      <td>NaN</td>\n      <td>NaN</td>\n      <td>NaN</td>\n      <td>NaN</td>\n      <td>NaN</td>\n      <td>...</td>\n      <td>NaN</td>\n      <td>NaN</td>\n      <td>NaN</td>\n      <td>NaN</td>\n      <td>NaN</td>\n      <td>NaN</td>\n      <td>NaN</td>\n      <td>NaN</td>\n      <td>NaN</td>\n      <td>NaN</td>\n    </tr>\n    <tr>\n      <th>...</th>\n      <td>...</td>\n      <td>...</td>\n      <td>...</td>\n      <td>...</td>\n      <td>...</td>\n      <td>...</td>\n      <td>...</td>\n      <td>...</td>\n      <td>...</td>\n      <td>...</td>\n      <td>...</td>\n      <td>...</td>\n      <td>...</td>\n      <td>...</td>\n      <td>...</td>\n      <td>...</td>\n      <td>...</td>\n      <td>...</td>\n      <td>...</td>\n      <td>...</td>\n      <td>...</td>\n    </tr>\n    <tr>\n      <th>939</th>\n      <td>NaN</td>\n      <td>NaN</td>\n      <td>NaN</td>\n      <td>NaN</td>\n      <td>NaN</td>\n      <td>NaN</td>\n      <td>NaN</td>\n      <td>NaN</td>\n      <td>5.0</td>\n      <td>NaN</td>\n      <td>...</td>\n      <td>NaN</td>\n      <td>NaN</td>\n      <td>NaN</td>\n      <td>NaN</td>\n      <td>NaN</td>\n      <td>NaN</td>\n      <td>NaN</td>\n      <td>NaN</td>\n      <td>NaN</td>\n      <td>NaN</td>\n    </tr>\n    <tr>\n      <th>940</th>\n      <td>NaN</td>\n      <td>NaN</td>\n      <td>NaN</td>\n      <td>2.0</td>\n      <td>NaN</td>\n      <td>NaN</td>\n      <td>4.0</td>\n      <td>5.0</td>\n      <td>3.0</td>\n      <td>NaN</td>\n      <td>...</td>\n      <td>NaN</td>\n      <td>NaN</td>\n      <td>NaN</td>\n      <td>NaN</td>\n      <td>NaN</td>\n      <td>NaN</td>\n      <td>NaN</td>\n      <td>NaN</td>\n      <td>NaN</td>\n      <td>NaN</td>\n    </tr>\n    <tr>\n      <th>941</th>\n      <td>5.0</td>\n      <td>NaN</td>\n      <td>NaN</td>\n      <td>NaN</td>\n      <td>NaN</td>\n      <td>NaN</td>\n      <td>4.0</td>\n      <td>NaN</td>\n      <td>NaN</td>\n      <td>NaN</td>\n      <td>...</td>\n      <td>NaN</td>\n      <td>NaN</td>\n      <td>NaN</td>\n      <td>NaN</td>\n      <td>NaN</td>\n      <td>NaN</td>\n      <td>NaN</td>\n      <td>NaN</td>\n      <td>NaN</td>\n      <td>NaN</td>\n    </tr>\n    <tr>\n      <th>942</th>\n      <td>NaN</td>\n      <td>NaN</td>\n      <td>NaN</td>\n      <td>NaN</td>\n      <td>NaN</td>\n      <td>NaN</td>\n      <td>NaN</td>\n      <td>NaN</td>\n      <td>NaN</td>\n      <td>NaN</td>\n      <td>...</td>\n      <td>NaN</td>\n      <td>NaN</td>\n      <td>NaN</td>\n      <td>NaN</td>\n      <td>NaN</td>\n      <td>NaN</td>\n      <td>NaN</td>\n      <td>NaN</td>\n      <td>NaN</td>\n      <td>NaN</td>\n    </tr>\n    <tr>\n      <th>943</th>\n      <td>NaN</td>\n      <td>5.0</td>\n      <td>NaN</td>\n      <td>NaN</td>\n      <td>NaN</td>\n      <td>NaN</td>\n      <td>NaN</td>\n      <td>NaN</td>\n      <td>3.0</td>\n      <td>NaN</td>\n      <td>...</td>\n      <td>NaN</td>\n      <td>NaN</td>\n      <td>NaN</td>\n      <td>NaN</td>\n      <td>NaN</td>\n      <td>NaN</td>\n      <td>NaN</td>\n      <td>NaN</td>\n      <td>NaN</td>\n      <td>NaN</td>\n    </tr>\n  </tbody>\n</table>\n<p>943 rows × 1682 columns</p>\n</div>"
          },
          "metadata": {}
        }
      ],
      "execution_count": 14
    },
    {
      "cell_type": "markdown",
      "source": "### **User-Based Collaborative Filtering Recommender System**",
      "metadata": {
        "id": "fOXp00QSbtHk"
      }
    },
    {
      "cell_type": "markdown",
      "source": "#### **Objective**\nIn this task, you will implement a **user-based collaborative filtering** movie recommendation system using the **Movie dataset**. The goal is to recommend movies to a user based on the preferences of similar users.",
      "metadata": {
        "id": "FwKBZk5Sc7YA"
      }
    },
    {
      "cell_type": "markdown",
      "source": "##### **Step 1: Import Required Libraries**\nBefore starting, ensure you have the necessary libraries installed. Use the following imports:\n\n```python\nimport pandas as pd  # For handling data\nimport numpy as np   # For numerical computations\nfrom sklearn.metrics.pairwise import cosine_similarity  # For computing user similarity\n```",
      "metadata": {
        "id": "fZf-Nu2rdPHR"
      }
    },
    {
      "cell_type": "markdown",
      "source": "##### **Step 2: Compute User-User Similarity**\n- We will use **cosine similarity** to measure how similar each pair of users is based on their movie ratings.\n- Since `cosine_similarity` does not handle missing values (NaN), replace them with `0` before computation.",
      "metadata": {
        "id": "qzJNshMbdwyR"
      }
    },
    {
      "cell_type": "markdown",
      "source": "##### **Instructions:**\n1. Fill missing values with `0` using `.fillna(0)`.\n2. Compute similarity using `cosine_similarity()`.\n3. Convert the result into a **Pandas DataFrame**, with users as both row and column labels.\n\n##### **Hint:**  \nYou can achieve this using the following approach:\n\n```python\nuser_similarity = cosine_similarity(user_movie_matrix.fillna(0))\nuser_sim_df = pd.DataFrame(user_similarity, index=user_movie_matrix.index, columns=user_movie_matrix.index)\n```",
      "metadata": {
        "id": "pkO_XtPqd4Sw"
      }
    },
    {
      "cell_type": "markdown",
      "source": "##### **Step 3: Implement the Recommendation Function**\nNow, implement the function `recommend_movies_for_user(user_id, num=5)` to recommend movies for a given user.\n\n##### **Function Inputs:**\n- `user_id`: The target user for whom we need recommendations.\n- `num`: The number of movies to recommend (default is 5).\n\n##### **Function Steps:**\n1. Find **similar users**:\n   - Retrieve the similarity scores for the given `user_id`.\n   - Sort them in **descending** order (highest similarity first).\n   - Exclude the user themselves.\n   \n2. Get the **movie ratings** from these similar users.\n\n3. Compute the **average rating** for each movie based on these users' preferences.\n\n4. Sort the movies in **descending order** based on the computed average ratings.\n\n5. Retrieve the **top `num` recommended movies**.\n\n6. Map **movie IDs** to their **titles** using the `movies` DataFrame.\n\n7. Return the results as a **Pandas DataFrame** with rankings.",
      "metadata": {
        "id": "NtmluaSGeBE-"
      }
    },
    {
      "cell_type": "markdown",
      "source": "##### **Step 4: Return the Final Recommendation List**\nYour function should return a **DataFrame** structured as follows:\n\n| Ranking | Movie Name |\n|---------|-----------|\n| 1       | Movie A   |\n| 2       | Movie B   |\n| 3       | Movie C   |\n| 4       | Movie D   |\n| 5       | Movie E   |\n\n##### **Hint:** Your final DataFrame should be created like this:\n```python\nresult_df = pd.DataFrame({\n    'Ranking': range(1, num+1),\n    'Movie Name': movie_names     \n})\nresult_df.set_index('Ranking', inplace=True)\n```\n\n#### **Example: User-Based Collaborative Filtering**\n```python\nrecommend_movies_for_user(10, num = 5)\n```\n**Output:**\n```\n| Ranking | Movie Name                     |\n|---------|--------------------------------|\n| 1       | In the Company of Men (1997)   |\n| 2       | Misérables, Les (1995)         |\n| 3       | Thin Blue Line, The (1988)     |\n| 4       | Braindead (1992)               |\n| 5       | Boys, Les (1997)               |\n",
      "metadata": {
        "id": "SgO0zd8LeGJ_"
      }
    },
    {
      "cell_type": "code",
      "source": "# Code the function here\nimport pandas as pd  # For handling data\nimport numpy as np   # For numerical computations\nfrom sklearn.metrics.pairwise import cosine_similarity  # For computing user similarity\n\nuser_similarity = cosine_similarity(user_movie_matrix.fillna(0))\nuser_sim_df = pd.DataFrame(user_similarity, index=user_movie_matrix.index, columns=user_movie_matrix.index)\n\ndef recommend_movies_for_user(user_id, num=5):\n    user_sim_scores = user_sim_df[user_id].tolist() #Get similarity scores between chosen user and other users\n    user_ratings = user_movie_matrix.fillna(0).loc[user_id].tolist() #Get ratings of chosen user\n    movie_ids = movies_df[\"movie_id\"].tolist() #Get all movie ids\n    \n    \n    unrated_movies = []\n    for i in range(len(movie_ids)): #Find all movies the chosen user has not rated\n        if user_ratings[i] == 0:\n            unrated_movies.append(movie_ids[i])\n\n    ratings = []\n    for id in unrated_movies:\n        movie_ratings = user_movie_matrix.fillna(0)[id].tolist() #Get all ratings for chosen movie\n        numer = 0\n        denom = 0\n        for i in range(len(movie_ratings)): #Calculate rating using sum(similarity*rating)/sum(similarity)\n           if(movie_ratings[i] > 0): #Ignore if not rated\n               numer += movie_ratings[i]*user_sim_scores[i]\n               denom += user_sim_scores[i]\n\n        if denom > 0:\n            ratings.append(numer/denom) #Final Rating\n        else:\n            ratings.append(0)\n\n    \n\n    ratings_data = {\"movie_id\": unrated_movies, \"rating\": ratings} #Connect Movie Ids to ratings\n    ratings_data = pd.DataFrame(ratings_data)\n    ratings_data = ratings_data.sort_values(by=\"rating\", ascending=False) #Sort Ratings\n    similar_movies = ratings_data[\"movie_id\"].tolist()[:num] #Filter to top recommendations\n\n    movie_names = []\n    for id in similar_movies:\n        movie_names.append(movies_df.loc[movies_df['movie_id'] == id, 'title'].values[0]) #Get movie names from ids\n\n    result_df = pd.DataFrame({\n        'Ranking': range(1, num+1),\n        'Movie Name': movie_names     \n    })\n    result_df.set_index('Ranking', inplace=True)\n\n    return result_df\n\n    ",
      "metadata": {
        "id": "rbENugJ5cUpo",
        "trusted": true
      },
      "outputs": [],
      "execution_count": 15
    },
    {
      "cell_type": "code",
      "source": "#Test function\nprint(recommend_movies_for_user(17, num = 10))\nprint(recommend_movies_for_user(345, num = 10))\nprint(recommend_movies_for_user(672, num = 10))",
      "metadata": {
        "trusted": true
      },
      "outputs": [
        {
          "name": "stdout",
          "output_type": "stream",
          "text": "                                         Movie Name\nRanking                                            \n1                                Prefontaine (1997)\n2                     Great Day in Harlem, A (1994)\n3                         Santa with Muscles (1996)\n4                             Delta of Venus (1994)\n5                              Aiqing wansui (1994)\n6                    They Made Me a Criminal (1939)\n7                                   Star Kid (1997)\n8        Marlene Dietrich: Shadow and Light (1996) \n9                     Someone Else's America (1995)\n10             Saint of Fort Washington, The (1993)\n                                                Movie Name\nRanking                                                   \n1                                          Star Kid (1997)\n2               Marlene Dietrich: Shadow and Light (1996) \n3                            Someone Else's America (1995)\n4                            Great Day in Harlem, A (1994)\n5                           They Made Me a Criminal (1939)\n6                                Santa with Muscles (1996)\n7        Entertaining Angels: The Dorothy Day Story (1996)\n8                     Saint of Fort Washington, The (1993)\n9                                       Prefontaine (1997)\n10                                    Aiqing wansui (1994)\n                                                Movie Name\nRanking                                                   \n1                                Santa with Muscles (1996)\n2                           They Made Me a Criminal (1939)\n3                                       Prefontaine (1997)\n4        Entertaining Angels: The Dorothy Day Story (1996)\n5               Marlene Dietrich: Shadow and Light (1996) \n6                     Saint of Fort Washington, The (1993)\n7                                          Star Kid (1997)\n8                            Great Day in Harlem, A (1994)\n9                                     Aiqing wansui (1994)\n10                           Someone Else's America (1995)\n"
        }
      ],
      "execution_count": 17
    },
    {
      "cell_type": "markdown",
      "source": "### **Item-Based Collaborative Filtering Recommender System**",
      "metadata": {
        "id": "MIN3XqC0eUAu"
      }
    },
    {
      "cell_type": "markdown",
      "source": "#### **Objective**\nIn this task, you will implement an **item-based collaborative filtering** recommendation system using the **Movie dataset**. The goal is to recommend movies similar to a given movie based on user rating patterns.",
      "metadata": {
        "id": "ytqWK-4ze2aA"
      }
    },
    {
      "cell_type": "markdown",
      "source": "#### **Step 1: Import Required Libraries**\nAlthough we have done this part already in the previous task but just to emphasize the importance reiterrating this part.\n\nBefore starting, ensure you have the necessary libraries installed. Use the following imports:\n\n```python\nimport pandas as pd  # For handling data\nimport numpy as np   # For numerical computations\nfrom sklearn.metrics.pairwise import cosine_similarity  # For computing item similarity\n```",
      "metadata": {
        "id": "Q0-HuDvffY57"
      }
    },
    {
      "cell_type": "markdown",
      "source": "#### **Step 2: Compute Item-Item Similarity**\n- We will use **cosine similarity** to measure how similar each pair of movies is based on their user ratings.\n- Since `cosine_similarity` does not handle missing values (NaN), replace them with `0` before computation.\n- Unlike user-based filtering, we need to **transpose** (`.T`) the `user_movie_matrix` because we want similarity between movies (columns) instead of users (rows).\n\n##### **Instructions:**\n1. Transpose the user-movie matrix using `.T` to make movies the rows.\n2. Fill missing values with `0` using `.fillna(0)`.\n3. Compute similarity using `cosine_similarity()`.\n4. Convert the result into a **Pandas DataFrame**, with movies as both row and column labels.\n\n##### **Hint:**  \nYou can achieve this using the following approach:\n\n```python\nitem_similarity = cosine_similarity(user_movie_matrix.T.fillna(0))\nitem_sim_df = pd.DataFrame(item_similarity, index=user_movie_matrix.columns, columns=user_movie_matrix.columns)\n```",
      "metadata": {
        "id": "b9oy7pojf19r"
      }
    },
    {
      "cell_type": "markdown",
      "source": "#### **Step 3: Implement the Recommendation Function**\nNow, implement the function `recommend_movies(movie_name, num=5)` to recommend movies similar to a given movie.\n\n##### **Function Inputs:**\n- `movie_name`: The target movie for which we need recommendations.\n- `num`: The number of similar movies to recommend (default is 5).\n\n##### **Function Steps:**\n1. Find the **movie_id** corresponding to the given `movie_name` in the `movies` DataFrame.\n2. If the movie is not found, return an appropriate message.\n3. Extract the **similarity scores** for this movie from `item_sim_df`.\n4. Sort the movies in **descending order** based on similarity (excluding the movie itself).\n5. Retrieve the **top `num` similar movies**.\n6. Map **movie IDs** to their **titles** using the `movies` DataFrame.\n7. Return the results as a **Pandas DataFrame** with rankings.",
      "metadata": {
        "id": "L8k80idUgDWW"
      }
    },
    {
      "cell_type": "markdown",
      "source": "#### **Step 4: Return the Final Recommendation List**\nYour function should return a **DataFrame** structured as follows:\n\n| Ranking | Movie Name |\n|---------|-----------|\n| 1       | Movie A   |\n| 2       | Movie B   |\n| 3       | Movie C   |\n| 4       | Movie D   |\n| 5       | Movie E   |\n\n##### **Hint:** Your final DataFrame should be created like this:\n```python\nresult_df = pd.DataFrame({\n    'ranking': range(1, num+1),\n    'movie_name': movie_names\n})\nresult_df.set_index('ranking', inplace=True)\n```",
      "metadata": {
        "id": "kNRZQWQkgLPf"
      }
    },
    {
      "cell_type": "markdown",
      "source": "#### **Example: Item-Based Collaborative Filtering**\n```python\nrecommend_movies(\"Jurassic Park (1993)\", num=5)\n```\n**Output:**\n```\n| Ranking | Movie Name                               |\n|---------|------------------------------------------|\n| 1       | Top Gun (1986)                           |\n| 2       | Empire Strikes Back, The (1980)          |\n| 3       | Raiders of the Lost Ark (1981)           |\n| 4       | Indiana Jones and the Last Crusade (1989)|\n| 5       | Speed (1994)                             |\n",
      "metadata": {
        "id": "h-EEF0Q1gd9N"
      }
    },
    {
      "cell_type": "code",
      "source": "# Code the function here\nimport pandas as pd  # For handling data\nimport numpy as np   # For numerical computations\nfrom sklearn.metrics.pairwise import cosine_similarity  # For computing user similarity\n\nitem_similarity = cosine_similarity(user_movie_matrix.T.fillna(0))\nitem_sim_df = pd.DataFrame(item_similarity, index=user_movie_matrix.columns, columns=user_movie_matrix.columns)\n\ndef recommend_movies(movie_name, num=5):\n    try:\n        movie_id = movies_df.loc[movies_df['title'] == movie_name, 'movie_id'].values[0] #Check if id exits for title\n    except Exception as e:\n        print(\"Movie not found\")\n        return\n\n    similar_movies = item_sim_df[movie_id].sort_values(ascending=False)[1:num+1] #Get movies, sort by similarity, filter to top choices\n    movie_names = []\n    for id in similar_movies.index.tolist():\n        movie_names.append(movies_df.loc[movies_df['movie_id'] == id, 'title'].values[0]) #Get movie names from id\n\n    result_df = pd.DataFrame({\n        'ranking': range(1, num+1),\n        'movie_name': movie_names\n    })\n    result_df.set_index('ranking', inplace=True)\n\n    return result_df\n    ",
      "metadata": {
        "id": "l1K79akTebWa",
        "trusted": true
      },
      "outputs": [],
      "execution_count": 18
    },
    {
      "cell_type": "code",
      "source": "#Test function\nprint(recommend_movies(\"Mission: Impossible (1996)\", num=10))\nprint(recommend_movies(\"Everest (1998)\", num=10))\nprint(recommend_movies(\"Manchurian Candidate, The (1962)\", num=10))",
      "metadata": {
        "trusted": true
      },
      "outputs": [
        {
          "name": "stdout",
          "output_type": "stream",
          "text": "                              movie_name\nranking                                 \n1          Independence Day (ID4) (1996)\n2                       Rock, The (1996)\n3                         Twister (1996)\n4                          Eraser (1996)\n5                    Broken Arrow (1996)\n6                       Toy Story (1995)\n7        Star Trek: First Contact (1996)\n8              Return of the Jedi (1983)\n9                       Star Wars (1977)\n10                  Jerry Maguire (1996)\n                               movie_name\nranking                                  \n1                      Prefontaine (1997)\n2                   City of Angels (1998)\n3                   Mercury Rising (1998)\n4                Grace of My Heart (1996)\n5               'Til There Was You (1997)\n6                Wedding Gift, The (1994)\n7                 Gumby: The Movie (1995)\n8        Man in the Iron Mask, The (1998)\n9                   Primary Colors (1998)\n10                      True Crime (1995)\n                                                movie_name\nranking                                                   \n1                                         Chinatown (1974)\n2                                       Rear Window (1954)\n3                                      Citizen Kane (1941)\n4                                           Vertigo (1958)\n5                                        Casablanca (1942)\n6                                North by Northwest (1959)\n7                                            Psycho (1960)\n8        Dr. Strangelove or: How I Learned to Stop Worr...\n9                                African Queen, The (1951)\n10                              Maltese Falcon, The (1941)\n"
        }
      ],
      "execution_count": 19
    },
    {
      "cell_type": "markdown",
      "source": "## **Part 3: Graph-Based Recommender (Pixie-Inspired Algorithm)**",
      "metadata": {
        "id": "YhZXLz7Rh_VC"
      }
    },
    {
      "cell_type": "markdown",
      "source": "### **Adjacency List**",
      "metadata": {
        "id": "u_YceL18lWlN"
      }
    },
    {
      "cell_type": "markdown",
      "source": "#### **Objective**\nIn this task, you will preprocess the Movie dataset and construct a **graph representation** where:\n- **Users** are connected to the movies they have rated.\n- **Movies** are connected to users who have rated them.\n  \nThis graph structure will help in exploring **user-movie relationships** for recommendations.",
      "metadata": {
        "id": "CFF1tUDsipIX"
      }
    },
    {
      "cell_type": "markdown",
      "source": "#### **Step 1: Merge Ratings with Movie Titles**\nSince we have **movie IDs** in the ratings dataset but need human-readable movie titles, we will:\n1. Merge the `ratings` DataFrame with the `movies` DataFrame using the `'movie_id'` column.\n2. This allows each rating to be associated with a **movie title**.\n\n#### **Hint:**\nUse the following Pandas operation to merge:\n```python\nratings = ratings.merge(movies, on='movie_id')\n```",
      "metadata": {
        "id": "-3OPInjhkUzy"
      }
    },
    {
      "cell_type": "markdown",
      "source": "\n#### **Step 2: Aggregate Ratings**\nSince multiple users may rate the same movie multiple times, we:\n1. Group the dataset by `['user_id', 'movie_id', 'title']`.\n2. Compute the **mean rating** for each movie by each user.\n3. Reset the index to ensure we maintain a clean DataFrame structure.\n\n#### **Hint:**  \nUse `groupby()` and `mean()` as follows:\n```python\nratings = ratings.groupby(['user_id', 'movie_id', 'title'])['rating'].mean().reset_index()\n```",
      "metadata": {
        "id": "3OPUXyNVkfHr"
      }
    },
    {
      "cell_type": "markdown",
      "source": "#### **Step 3: Normalize Ratings**\nSince different users have different rating biases, we normalize ratings by:\n1. **Computing each user's mean rating**.\n2. **Subtracting the mean rating** from each individual rating.\n\n#### **Instructions:**\n- Use `groupby('user_id')` to group ratings by users.\n- Apply `transform(lambda x: x - x.mean())` to adjust ratings.\n\n#### **Hint:**  \nNormalize ratings using:\n```python\nratings['rating'] = ratings.groupby('user_id')['rating'].transform(lambda x: x - x.mean())\n```\nThis ensures each user’s ratings are centered around zero, making similarity calculations fairer.",
      "metadata": {
        "id": "NU1fB66WkqEO"
      }
    },
    {
      "cell_type": "markdown",
      "source": "#### **Step 4: Construct the Graph Representation**\nWe represent the user-movie interactions as an **undirected graph** using an **adjacency list**:\n- Each **user** is a node connected to movies they rated.\n- Each **movie** is a node connected to users who rated it.\n\n#### **Graph Construction Steps:**\n1. Initialize an empty dictionary `graph = {}`.\n2. Iterate through the **ratings dataset**.\n3. For each `user_id` and `movie_id` pair:\n   - Add the movie to the user’s set of connections.\n   - Add the user to the movie’s set of connections.\n\n#### **Hint:**  \nThe following code builds the graph:\n\n```python\ngraph = {}\nfor _, row in ratings.iterrows():\n    user, movie = row['user_id'], row['movie_id']\n    if user not in graph:\n        graph[user] = set()\n    if movie not in graph:\n        graph[movie] = set()\n    graph[user].add(movie)\n    graph[movie].add(user)\n```\n\nThis results in a **bipartite graph**, where:\n- **Users** are connected to multiple movies.\n- **Movies** are connected to multiple users.",
      "metadata": {
        "id": "79NB8zIWkvWP"
      }
    },
    {
      "cell_type": "markdown",
      "source": "#### **Step 5: Understanding the Graph**\n- **Nodes** in the graph represent **users and movies**.\n- **Edges** exist between a user and a movie **if the user has rated the movie**.\n- This structure allows us to find **users with similar movie tastes** and **movies frequently watched together**.\n\n#### **Exploring the Graph**\n- **Find a user’s rated movies:**  \n  ```python\n  user_id = 1\n  print(graph[user_id])  # Movies rated by user 1\n  ```\n\n- **Find users who rated a movie:**  \n  ```python\n  movie_id = 50\n  print(graph[movie_id])  # Users who rated movie 50\n  ```",
      "metadata": {
        "id": "wEuVgjAAk4KV"
      }
    },
    {
      "cell_type": "code",
      "source": "# Code the function here\ndef make_graph():\n    ratings = ratings_df.merge(movies_df, on='movie_id')\n    ratings = ratings.groupby(['user_id', 'movie_id', 'title'])['rating'].mean().reset_index()\n    ratings['rating'] = ratings.groupby('user_id')['rating'].transform(lambda x: x - x.mean())\n    \n    graph = {}\n    for _, row in ratings.iterrows():\n        user, movie = row['user_id'], row['movie_id']\n        userid = \"u\" + str(user) #Separate user and movie entries by making user ids start with u\n        movieid = \"m\" + str(movie) #Separate user and movie entries by making movie ids start with m\n        if userid not in graph:\n            graph[userid] = set() \n        if movieid not in graph:\n            graph[movieid] = set() \n        graph[userid].add(movie)\n        graph[movieid].add(user)\n\n    return graph",
      "metadata": {
        "id": "b4V2aL4DiMM4",
        "trusted": true
      },
      "outputs": [],
      "execution_count": 28
    },
    {
      "cell_type": "code",
      "source": "#Test function\ngraph = make_graph()\nuser_id = 1\nuser_id = \"u\" + str(user_id)\nprint(graph[user_id])  # Movies rated by user 1\nmovie_id = 50\nmovie_id = \"m\" + str(movie_id)\nprint(graph[movie_id]) # Users who rated movie 50",
      "metadata": {
        "trusted": true
      },
      "outputs": [
        {
          "name": "stdout",
          "output_type": "stream",
          "text": "{1, 2, 3, 4, 5, 6, 7, 8, 9, 10, 11, 12, 13, 14, 15, 16, 17, 18, 19, 20, 21, 22, 23, 24, 25, 26, 27, 28, 29, 30, 31, 32, 33, 34, 35, 36, 37, 38, 39, 40, 41, 42, 43, 44, 45, 46, 47, 48, 49, 50, 51, 52, 53, 54, 55, 56, 57, 58, 59, 60, 61, 62, 63, 64, 65, 66, 67, 68, 69, 70, 71, 72, 73, 74, 75, 76, 77, 78, 79, 80, 81, 82, 83, 84, 85, 86, 87, 88, 89, 90, 91, 92, 93, 94, 95, 96, 97, 98, 99, 100, 101, 102, 103, 104, 105, 106, 107, 108, 109, 110, 111, 112, 113, 114, 115, 116, 117, 118, 119, 120, 121, 122, 123, 124, 125, 126, 127, 128, 129, 130, 131, 132, 133, 134, 135, 136, 137, 138, 139, 140, 141, 142, 143, 144, 145, 146, 147, 148, 149, 150, 151, 152, 153, 154, 155, 156, 157, 158, 159, 160, 161, 162, 163, 164, 165, 166, 167, 168, 169, 170, 171, 172, 173, 174, 175, 176, 177, 178, 179, 180, 181, 182, 183, 184, 185, 186, 187, 188, 189, 190, 191, 192, 193, 194, 195, 196, 197, 198, 199, 200, 201, 202, 203, 204, 205, 206, 207, 208, 209, 210, 211, 212, 213, 214, 215, 216, 217, 218, 219, 220, 221, 222, 223, 224, 225, 226, 227, 228, 229, 230, 231, 232, 233, 234, 235, 236, 237, 238, 239, 240, 241, 242, 243, 244, 245, 246, 247, 248, 249, 250, 251, 252, 253, 254, 255, 256, 257, 258, 259, 260, 261, 262, 263, 264, 265, 266, 268, 269, 270, 271, 272}\n{1, 2, 4, 5, 6, 7, 8, 9, 10, 12, 13, 14, 15, 18, 20, 21, 22, 23, 25, 26, 27, 28, 30, 32, 37, 41, 42, 43, 44, 45, 46, 48, 49, 51, 53, 54, 55, 56, 57, 58, 59, 60, 62, 63, 64, 65, 66, 68, 69, 70, 71, 72, 77, 79, 80, 82, 83, 85, 87, 89, 91, 92, 94, 95, 96, 97, 99, 101, 102, 103, 104, 108, 109, 113, 115, 116, 117, 119, 120, 121, 123, 124, 125, 127, 128, 130, 132, 137, 141, 144, 145, 148, 150, 151, 153, 154, 157, 158, 160, 161, 162, 169, 174, 175, 176, 177, 178, 182, 183, 184, 185, 188, 189, 192, 194, 197, 198, 200, 201, 203, 209, 210, 213, 214, 215, 216, 217, 221, 222, 227, 230, 231, 232, 233, 234, 235, 236, 239, 244, 245, 246, 247, 248, 249, 250, 251, 253, 254, 256, 257, 262, 263, 265, 267, 268, 269, 270, 271, 272, 274, 275, 276, 277, 279, 280, 283, 286, 287, 288, 290, 291, 292, 293, 294, 295, 296, 297, 298, 299, 301, 303, 305, 307, 308, 310, 311, 312, 313, 316, 318, 320, 321, 322, 323, 324, 325, 326, 327, 328, 329, 330, 332, 334, 336, 337, 339, 340, 343, 344, 345, 346, 347, 350, 352, 354, 359, 360, 361, 363, 367, 368, 369, 370, 371, 373, 374, 378, 379, 380, 381, 382, 385, 386, 387, 389, 391, 392, 393, 394, 395, 397, 398, 399, 401, 402, 403, 405, 406, 407, 409, 411, 413, 416, 417, 419, 421, 422, 424, 425, 426, 429, 430, 432, 433, 435, 436, 437, 438, 444, 445, 447, 450, 452, 453, 454, 455, 456, 457, 458, 459, 461, 463, 464, 465, 466, 467, 468, 470, 471, 472, 474, 475, 478, 479, 480, 481, 482, 483, 484, 486, 487, 488, 490, 493, 494, 495, 496, 497, 498, 499, 500, 503, 504, 505, 506, 507, 508, 509, 512, 513, 514, 516, 517, 521, 523, 524, 526, 527, 528, 530, 533, 535, 536, 537, 538, 539, 540, 541, 542, 545, 546, 548, 549, 550, 551, 552, 553, 554, 555, 557, 560, 561, 562, 563, 564, 566, 567, 569, 573, 575, 576, 577, 579, 580, 581, 582, 584, 586, 588, 592, 593, 594, 595, 596, 597, 600, 601, 602, 603, 606, 608, 610, 613, 618, 619, 620, 621, 622, 623, 624, 625, 629, 630, 632, 633, 634, 637, 638, 641, 642, 643, 644, 645, 648, 649, 650, 653, 654, 655, 658, 659, 660, 661, 662, 663, 664, 665, 666, 668, 669, 671, 672, 674, 676, 678, 679, 680, 682, 684, 686, 689, 691, 693, 694, 697, 698, 699, 700, 701, 703, 704, 705, 706, 708, 709, 710, 711, 712, 714, 715, 716, 717, 719, 721, 723, 727, 730, 734, 735, 736, 738, 739, 741, 742, 744, 745, 746, 747, 748, 749, 751, 753, 756, 757, 758, 759, 760, 761, 763, 764, 765, 766, 768, 770, 771, 773, 774, 776, 779, 780, 781, 782, 785, 786, 789, 790, 791, 793, 794, 795, 796, 797, 798, 799, 800, 804, 805, 806, 807, 815, 823, 825, 826, 830, 831, 832, 833, 834, 835, 838, 839, 840, 843, 844, 846, 847, 848, 850, 851, 852, 854, 862, 864, 867, 868, 869, 870, 871, 875, 878, 879, 880, 881, 882, 883, 885, 886, 887, 889, 890, 891, 892, 893, 894, 895, 896, 897, 899, 901, 902, 903, 907, 908, 910, 913, 916, 917, 919, 921, 922, 923, 924, 929, 930, 931, 933, 934, 936, 937, 938, 940, 942, 943}\n"
        }
      ],
      "execution_count": 29
    },
    {
      "cell_type": "markdown",
      "source": "### **Implement Weighted Random Walks**",
      "metadata": {
        "id": "_ZE31gB7lImI"
      }
    },
    {
      "cell_type": "markdown",
      "source": "#### **Random Walk-Based Movie Recommendation System (Weighted Pixie)**",
      "metadata": {
        "id": "yHe42rlJl9kD"
      }
    },
    {
      "cell_type": "markdown",
      "source": "#### **Objective**\nIn this task, you will implement a **random-walk-based recommendation algorithm** using the **Weighted Pixie** method. This technique uses a **user-movie bipartite graph** to recommend movies by simulating a random walk from a given user or movie.",
      "metadata": {
        "id": "jyqptwreo-IP"
      }
    },
    {
      "cell_type": "markdown",
      "source": "#### **Step 1: Import Required Libraries**\nMake sure you have the necessary libraries:\n\n```python\nimport random  # For random walks\nimport pandas as pd  # For handling data\n```",
      "metadata": {
        "id": "jFgyzzdCpfzu"
      }
    },
    {
      "cell_type": "markdown",
      "source": "#### **Step 2: Implement the Random Walk Algorithm**\nYour task is to **simulate a random walk** from a given starting point in the **bipartite user-movie graph**.\n\n##### **Hints for Implementation**\n- Start from **either a user or a movie**.\n- At each step, **randomly move** to a connected node.\n- Keep track of **how many times each movie is visited**.\n- After completing the walk, **rank movies by visit count**.",
      "metadata": {
        "id": "_FVGjhl0ppFK"
      }
    },
    {
      "cell_type": "markdown",
      "source": "#### **Step 3: Implement User-Based Recommendation**\n**Hints:**\n- Check if the `user_id` exists in the `graph`.\n- Start a loop that runs for `walk_length` steps.\n- Randomly pick a **connected node** (user or movie).\n- Track how many times each **movie** is visited.\n- Sort movies by visit frequency and return the **top N**.\n\n#### **Step 4: Implement Movie-Based Recommendation**\n**Hints:**\n- Find the `movie_id` corresponding to the given `movie_name`.\n- Ensure the movie exists in the `graph`.\n- Start a random walk from that movie.\n- Follow the same **tracking and ranking** process as the user-based version.\n\n**Note:**  \n**Your task:** Implement a function `weighted_pixie_recommend(user_id, walk_length=15, num=5)` or `weighted_pixie_recommend(movie_name, walk_length=15, num=5)`.  \n**Implement either Step 3 or Step 4.**",
      "metadata": {
        "id": "E7D7Pj6trss9"
      }
    },
    {
      "cell_type": "markdown",
      "source": "#### **Step 5: Running Your Recommendation System**\nOnce your function is implemented, test it by calling:\n\n##### **Example: User-Based Recommendation**\n```python\nweighted_pixie_recommend(1, walk_length=15, num=5)\n```\n| Ranking | Movie Name                     |\n|---------|--------------------------------|\n| 1       | My Own Private Idaho (1991)   |\n| 2       | Aladdin (1992)                |\n| 3       | 12 Angry Men (1957)           |\n| 4       | Happy Gilmore (1996)          |\n| 5       | Copycat (1995)                |\n\n\n##### **Example: Movie-Based Recommendation**\n```python\nweighted_pixie_recommend(\"Jurassic Park (1993)\", walk_length=10, num=5)\n```\n| Ranking | Movie Name                           |\n|---------|-------------------------------------|\n| 1       | Rear Window (1954)                 |\n| 2       | Great Dictator, The (1940)         |\n| 3       | Field of Dreams (1989)             |\n| 4       | Casablanca (1942)                  |\n| 5       | Nightmare Before Christmas, The (1993) |\n",
      "metadata": {
        "id": "qxN_ibCCrCpx"
      }
    },
    {
      "cell_type": "markdown",
      "source": "#### **Step 6: Understanding the Results**\nYour function should return a **DataFrame** structured as follows:\n\n| Ranking | Movie Name |\n|---------|-----------|\n| 1       | Movie A   |\n| 2       | Movie B   |\n| 3       | Movie C   |\n| 4       | Movie D   |\n| 5       | Movie E   |\n\nEach movie is ranked based on **how frequently it was visited** during the walk.\n\n#### **Experiment with Different Parameters**\n- Try different **`walk_length`** values and observe how it changes recommendations.\n- Adjust the number of recommended movies (`num`).",
      "metadata": {
        "id": "ZpUH9IzVr5aQ"
      }
    },
    {
      "cell_type": "code",
      "source": "# Code the function here\nimport random  # For random walks\nimport pandas as pd  # For handling data\n\ndef weighted_pixie_recommend(user_id, walk_length=15, num=5):\n    try:\n        test = graph[\"u\" + str(user_id)] #Check if user exists\n    except Exception as e:\n        print(\"User not found\")\n        return\n\n    movie_ids = movies_df[\"movie_id\"].tolist() #Get all movie ids\n    movie_visits = [] #Initialize visit numbers to 0\n    for i in range(len(movie_ids)):\n        movie_visits.append(0)\n        \n    cnode = user_id #Starting Node is chosen user\n    isMovie = False #Denotes if currently on a user or movie node\n    for i in range(walk_length):\n        entry = \"\" #Set correct entry value for user or movie\n        if isMovie:\n            entry = \"m\" + str(cnode)\n        else:\n            entry = \"u\" + str(cnode)\n\n        isMovie = not isMovie\n        nodes = graph[entry] #Get all connected nodes\n        cnode = random.choice(list(nodes)) #Choose a connected node\n\n        if isMovie:\n            movie_visits[cnode-1] += 1 #Increment movie visits for chosen movie\n\n    walk_data = {\"movie_id\": movie_ids, \"visits\": movie_visits} #Connect Movie Ids to visits\n    walk_data = pd.DataFrame(walk_data)\n    walk_data = walk_data.sort_values(by=\"visits\", ascending=False) #Sort Visits\n    similar_movies = walk_data[\"movie_id\"].tolist()[:num] #Filter to top recommendations\n\n    movie_names = []\n    for id in similar_movies:\n        movie_names.append(movies_df.loc[movies_df['movie_id'] == id, 'title'].values[0]) #Get movie names from ids\n\n    result_df = pd.DataFrame({\n        'Ranking': range(1, num+1),\n        'Movie Name': movie_names     \n    })\n    result_df.set_index('Ranking', inplace=True)\n\n    return result_df\n        \n        \n    \n    ",
      "metadata": {
        "id": "tZD5fjG-lx3b",
        "trusted": true
      },
      "outputs": [],
      "execution_count": 58
    },
    {
      "cell_type": "code",
      "source": "#Test function\nprint(weighted_pixie_recommend(17, walk_length=15, num=10))\nprint(weighted_pixie_recommend(17, walk_length=100, num=10))\nprint(weighted_pixie_recommend(17, walk_length=1000, num=10))\nprint(weighted_pixie_recommend(17, walk_length=10000, num=10))",
      "metadata": {
        "trusted": true
      },
      "outputs": [
        {
          "name": "stdout",
          "output_type": "stream",
          "text": "                                Movie Name\nRanking                                   \n1                      My Left Foot (1989)\n2                        Piano, The (1993)\n3                           Top Gun (1986)\n4              Very Brady Sequel, A (1996)\n5                  Corrina, Corrina (1994)\n6            In the Bleak Midwinter (1995)\n7                            Casino (1995)\n8                    Night on Earth (1991)\n9                    Innocents, The (1961)\n10       Last Time I Saw Paris, The (1954)\n                                   Movie Name\nRanking                                      \n1                      Raising Arizona (1987)\n2                    Dial M for Murder (1954)\n3                   Executive Decision (1996)\n4                        Fugitive, The (1993)\n5                              Go Fish (1994)\n6                            Rock, The (1996)\n7                   Back to the Future (1985)\n8                              Thinner (1996)\n9                    Good Will Hunting (1997)\n10       Adventures of Robin Hood, The (1938)\n                                Movie Name\nRanking                                   \n1                         Breakdown (1997)\n2                    Twelve Monkeys (1995)\n3                      Pulp Fiction (1994)\n4        Wes Craven's New Nightmare (1994)\n5                   Terminator, The (1984)\n6                       Dragonheart (1996)\n7                    Kiss the Girls (1997)\n8                Return of the Jedi (1983)\n9                            Gandhi (1982)\n10                    Fugitive, The (1993)\n                            Movie Name\nRanking                               \n1                       Contact (1997)\n2                      In & Out (1997)\n3        Independence Day (ID4) (1996)\n4                     Star Wars (1977)\n5                     Rock, The (1996)\n6                         Evita (1996)\n7         2001: A Space Odyssey (1968)\n8            Desperate Measures (1998)\n9            Back to the Future (1985)\n10                        Fargo (1996)\n"
        }
      ],
      "execution_count": 59
    },
    {
      "cell_type": "markdown",
      "source": "---",
      "metadata": {
        "id": "Q36Y2C7PxWO0"
      }
    },
    {
      "cell_type": "markdown",
      "source": "## **Submission Requirements:**",
      "metadata": {
        "id": "9iKlQlvBtiGe"
      }
    },
    {
      "cell_type": "markdown",
      "source": "To successfully complete this assignment, ensure that you submit the following:\n\n\n### **1. Jupyter Notebook Submission**\n- Submit a **fully completed Jupyter Notebook** that includes:\n  - **All implemented recommendation functions** (user-based, item-based, and random walk-based recommendations).\n  - **Code explanations** in markdown cells to describe each step.\n  - **Results and insights** from running your recommendation models.\n\n\n### **2. Explanation of Pixie-Inspired Algorithms (3-5 Paragraphs)**\n- Write a **detailed explanation** of **Pixie-inspired random walk algorithms** used for recommendations.\n- Your explanation should cover:\n  - What **Pixie-inspired recommendation systems** are.\n  - How **random walks** help in identifying relevant recommendations.\n  - Any real-world applications of such algorithms in industry.\n\n\n### **3. Report for the Submitted Notebook**\nYour report should be structured as follows:\n\n#### **Title: Movie Recommendation System Report**\n\n#### **1. Introduction**\n- Briefly introduce **movie recommendation systems** and why they are important.\n- Explain the **different approaches used** (user-based, item-based, random-walk).\n\n#### **2. Dataset Description**\n- Describe the **MovieLens 100K dataset**:\n  - Number of users, movies, and ratings.\n  - What features were used.\n  - Any preprocessing performed.\n\n#### **3. Methodology**\n- Explain the three recommendation techniques implemented:\n  - **User-based collaborative filtering** (how user similarity was calculated).\n  - **Item-based collaborative filtering** (how item similarity was determined).\n  - **Random-walk-based Pixie algorithm** (why graph-based approaches are effective).\n  \n#### **4. Implementation Details**\n- Discuss the steps taken to build the functions.\n- Describe how the **adjacency list graph** was created.\n- Explain how **random walks** were performed and how visited movies were ranked.\n\n#### **5. Results and Evaluation**\n- Present **example outputs** from each recommendation approach.\n- Compare the different methods in terms of accuracy and usefulness.\n- Discuss any **limitations** in the implementation.\n\n#### **6. Conclusion**\n- Summarize the key takeaways from the project.\n- Discuss potential improvements (e.g., **hybrid models, additional features**).\n- Suggest real-world applications of the methods used.",
      "metadata": {
        "id": "NHGGedZexPs0"
      }
    },
    {
      "cell_type": "markdown",
      "source": "### **Submission Instructions**",
      "metadata": {
        "id": "NWgT_Shy-vUK"
      }
    },
    {
      "cell_type": "markdown",
      "source": "- Submit `.zip` file consisting of Jupyter Notebook and all the datafiles (provided) and the ones saved [i.e. `users.csv`, `movies.csv` and `ratings.csv`]. Also, include the Report and Pixie Algorithm explanation document.\n- [`Bonus 10 Points`] **Upload your Jupyter Notebook, Explanation Document, and Report** to your GitHub repository.\n- Ensure the repository is public and contains:\n  - `users.csv`, `movies.csv` and `ratings.csv` [These are the Dataframes which were created in part 1. Save and export them as a `.csv` file]\n  - `Movie_Recommendation.ipynb`\n  - `Pixie_Algorithm_Explanation.pdf` or `.md`\n  - `Recommendation_Report.pdf` or `.md`\n- **Submit the GitHub repository link in the cell below.**\n\n\n#### **Example Submission Format**\n```text\nGitHub Repository: https://github.com/username/Movie-Recommendation\n```",
      "metadata": {
        "id": "Nuz1s-Vh_L55"
      }
    },
    {
      "cell_type": "code",
      "source": "# Submit the Github Link here:\nhttps://github.com/Emory17/Movie-Recommendation",
      "metadata": {
        "id": "jol9nRDau6fZ",
        "trusted": true
      },
      "outputs": [],
      "execution_count": null
    },
    {
      "cell_type": "markdown",
      "source": "### **Grading Rubric: ITCS 6162 - Data Mining Assignment**",
      "metadata": {
        "id": "oQ6aluK-0ZMa"
      }
    },
    {
      "cell_type": "markdown",
      "source": "\n| **Category**                              | **Criteria**                                                     | **Points** |\n|-------------------------------------------|----------------------------------------------------------------|------------|\n| **Part 1: Exploring and Cleaning Data (15 pts)**  | Properly loads `u.user`, `u.movies`, and `u.item` datasets into DataFrames | 5 |\n|                                           | Handles missing values, duplicates, and inconsistencies appropriately | 5 |\n|                                           | Saves the cleaned datasets into CSV files: `users.csv`, `movies.csv`, `ratings.csv` | 5 |\n| **Part 2: Collaborative Filtering-Based Recommendation (30 pts)** | Implements user-based collaborative filtering correctly | 10 |\n|                                           | Implements item-based collaborative filtering correctly | 10 |\n|                                           | Computes similarity measures accurately and provides valid recommendations | 10 |\n| **Part 3: Graph-Based Recommender (Pixie-Inspired Algorithm) (35 pts)** | Constructs adjacency lists properly from user-movie interactions | 10 |\n|                                           | Implements weighted random walk-based recommendation correctly | 15 |\n|                                           | Explains and justifies the algorithm design choices (Pixie-inspired) | 10 |\n| **Code Quality & Documentation (10 pts)** | Code is well-structured, efficient, and follows best practices | 5 |\n|                                           | Markdown explanations and comments are clear and enhance understanding | 5 |\n| **Results & Interpretation (5 pts)**      | Provides meaningful insights from the recommendation system's output | 5 |\n| **Submission & Report (5 pts)**          | Submits all required files in the correct format (ZIP file with Jupyter notebook, processed CSV files, and project report) | 5 |\n| **Total**                                 |                              | 100 |\n\n#### **Bonus (10 pts)**\n| **Category**                              | **Criteria**                                                     | **Points** |\n|-------------------------------------------|----------------------------------------------------------------|------------|\n| **GitHub Submission**                     | Provides a well-documented GitHub repository with CSV files, a structured README, and a properly formatted Jupyter Notebook | 10 |",
      "metadata": {
        "id": "sNAfeIzA_fCq"
      }
    }
  ]
}